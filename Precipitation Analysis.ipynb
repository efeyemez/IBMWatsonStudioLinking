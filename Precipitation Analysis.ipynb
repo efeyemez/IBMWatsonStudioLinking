{
    "cells": [
        {
            "cell_type": "code",
            "execution_count": 1,
            "metadata": {},
            "outputs": [
                {
                    "name": "stdout",
                    "output_type": "stream",
                    "text": "+---------------+----+-------+----------------+--------------------+----------------+\n|Country or Area|Year|  Value|Value Footnotes3|                Unit|Value Footnotes5|\n+---------------+----+-------+----------------+--------------------+----------------+\n|        Albania|2015|32711.0|            null|million cubic metres|            null|\n|        Albania|2014|37172.0|            null|million cubic metres|            null|\n|        Albania|2013|30615.0|            null|million cubic metres|            null|\n|        Albania|2012|28058.0|            null|million cubic metres|            null|\n|        Albania|2011|30569.0|            null|million cubic metres|            null|\n+---------------+----+-------+----------------+--------------------+----------------+\nonly showing top 5 rows\n\n"
                },
                {
                    "data": {
                        "text/plain": "configurationName = os_97c6b85dd8ea4ca197128b14cb246686_configs\ncos = com.ibm.ibmos2spark.CloudObjectStorage@3b78bb2d\nspark = org.apache.spark.sql.SparkSession@20c31d5f\ndfData1 = [Country or Area: string, Year: string ... 4 more fields]\n"
                    },
                    "metadata": {},
                    "output_type": "display_data"
                },
                {
                    "data": {
                        "text/plain": "getCredentials: ()scala.collection.mutable.HashMap[String,String]\n"
                    },
                    "metadata": {},
                    "output_type": "display_data"
                },
                {
                    "data": {
                        "text/plain": "[Country or Area: string, Year: string ... 4 more fields]"
                    },
                    "execution_count": 1,
                    "metadata": {},
                    "output_type": "execute_result"
                }
            ],
            "source": "// The code was removed by Watson Studio for sharing."
        }
    ],
    "metadata": {
        "kernelspec": {
            "display_name": "Scala 2.12 with Spark",
            "language": "scala",
            "name": "scala"
        },
        "language_info": {
            "codemirror_mode": "text/x-scala",
            "file_extension": ".scala",
            "mimetype": "text/x-scala",
            "name": "scala",
            "pygments_lexer": "scala",
            "version": "2.12.15"
        }
    },
    "nbformat": 4,
    "nbformat_minor": 1
}